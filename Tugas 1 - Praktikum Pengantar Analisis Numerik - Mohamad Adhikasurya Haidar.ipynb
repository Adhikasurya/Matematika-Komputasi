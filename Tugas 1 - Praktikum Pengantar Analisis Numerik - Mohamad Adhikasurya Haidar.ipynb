{
 "cells": [
  {
   "cell_type": "markdown",
   "metadata": {},
   "source": [
    "**Nama : Mohamad Adhikasurya Haidar\n",
    "<br>NIM  : 19/445704/PA/19528**"
   ]
  },
  {
   "cell_type": "markdown",
   "metadata": {},
   "source": [
    "1) Tentukan koefisien p1, p2, dan p3, dari suatu polinomial $f(x) = {p_{1}}x^2 + {p_{2}}x + {p_{3}}$, yang melewati titik-titik $(300, 0.616),  (400, 0.525), (500, 0.457)$. Interpolasi"
   ]
  },
  {
   "cell_type": "code",
   "execution_count": 1,
   "metadata": {},
   "outputs": [
    {
     "name": "stdout",
     "output_type": "stream",
     "text": [
      "Dengan memanfaatkan built-in function 'polyfit' dari library numpy \n",
      "Diperoleh :\n",
      "koefisien dari p1 : 1.150000000000013e-06\n",
      "koefisien dari p2 : -0.0017150000000000127\n",
      "koefisien dari p3 : 1.0270000000000028\n"
     ]
    }
   ],
   "source": [
    "# Cara 1\n",
    "import numpy as np\n",
    "\n",
    "titik2 = np.array([[300, 0.616],[400, 0.525], [500, 0.457]]) # Membuat array pasangan2 titik yang dilalui\n",
    "\n",
    "x = titik2[:,0]  # list untuk titik x-axis\n",
    "y = titik2[:,1]  # list untuk titik y-axis\n",
    "\n",
    "coefficients = np.polyfit(x, y, 2) # mendapatkan koefisien polynomial menggunakan function polyfit dari numpy\n",
    "\n",
    "koef = ['p1', 'p2', 'p3']\n",
    "print(\"Dengan memanfaatkan built-in function 'polyfit' dari library numpy \\nDiperoleh :\")\n",
    "for p in range(3):\n",
    "    print(\"koefisien dari {i} : {koe}\".format(i=koef[p], koe=coefficients[p]))"
   ]
  },
  {
   "cell_type": "code",
   "execution_count": 3,
   "metadata": {},
   "outputs": [
    {
     "name": "stdout",
     "output_type": "stream",
     "text": [
      "Dengan memanfaatkan built-in function aljabar linear dari library numpy,\n",
      "Kita bisa mendapatkan koefisien2 suku polinomial dengan mencari solusi persamaan linear.\n",
      "Sehingga diperoleh :\n",
      "koefisien dari p1 : 1.150000000000013e-06\n",
      "koefisien dari p2 : -0.0017150000000000127\n",
      "koefisien dari p3 : 1.0270000000000028\n"
     ]
    }
   ],
   "source": [
    "# Cara 2\n",
    "import numpy as np\n",
    "# Kita transformasi permasalahan ini ke mencari solusi persamaan linear, dimana di kasus ini 3 variabel\n",
    "a = np.array([[300**2, 300, 1], [400**2, 400, 1], [500**2, 500, 1]]) \n",
    "b = np.array([0.616, 0.525, 0.457])\n",
    "koef2 = np.linalg.solve(a, b)\n",
    "print(\"Dengan memanfaatkan built-in function aljabar linear dari library numpy,\\nKita bisa mendapatkan koefisien2 suku polinomial dengan mencari solusi persamaan linear.\\nSehingga diperoleh :\")\n",
    "koef = ['p1', 'p2', 'p3']\n",
    "for p in range(3):\n",
    "    print(\"koefisien dari {i} : {koe}\".format(i=koef[p], koe=coefficients[p]))"
   ]
  },
  {
   "cell_type": "markdown",
   "metadata": {},
   "source": [
    "2) Tuliskan code/koding untuk mengkonversi bilangan biner ke dalam bentuk desimal. Konversikan bilangan biner ini : 11011011"
   ]
  },
  {
   "cell_type": "code",
   "execution_count": 13,
   "metadata": {},
   "outputs": [],
   "source": [
    "def biner_to_desimal() :\n",
    "    \n",
    "    biner = str(input(\"input bilangan biner : \"))\n",
    "    pangkat = (list(range(0,len(biner)))) # list pangkat yang bersesuaian dengan len(biner) yang diinput. e.g len(11011011) = 8, maka pangkat[0,1,..,8]\n",
    "    for i in biner :\n",
    "        if int(i) in [2,3,4,5,6,7,8,9] :\n",
    "            return \"ada kesalahan input\"\n",
    "    pangkat = pangkat[::-1] # urutan element dalam baris dibalik\n",
    "    biner_converted = 0 # bilangan desimal yang kita cari\n",
    "    for i in  range(len(biner)) :\n",
    "        biner_converted += (int(biner[i]))*((2)**(pangkat[i]))  # 2^(len(biner)) + ... + 2^0 \n",
    "    return biner_converted"
   ]
  },
  {
   "cell_type": "code",
   "execution_count": 16,
   "metadata": {},
   "outputs": [
    {
     "name": "stdout",
     "output_type": "stream",
     "text": [
      "input bilangan biner : 1111111111111111111111111\n"
     ]
    },
    {
     "data": {
      "text/plain": [
       "33554431"
      ]
     },
     "execution_count": 16,
     "metadata": {},
     "output_type": "execute_result"
    }
   ],
   "source": [
    "biner_to_desimal()"
   ]
  },
  {
   "cell_type": "markdown",
   "metadata": {},
   "source": [
    "3) Tuliskan suatu code/koding untuk menentukan presisi suatu bilangan desimal. Input : \n",
    "<br> 1. Bilangan desimalnya\n",
    "<br> 2. Presisinya (berapa angka di belakang koma). Outputnya: bilangan desimal sesuai "
   ]
  },
  {
   "cell_type": "code",
   "execution_count": null,
   "metadata": {},
   "outputs": [],
   "source": [
    "# cara 1\n",
    "import numpy as np\n",
    "\n",
    "desimal = float(input(\"Input desimal : \"))\n",
    "presisi = int(input(\"Jumlah presisi : \"))\n",
    "\n",
    "np.set_printoptions(precision=presisi)\n",
    "a = np.array([desimal])\n",
    "print(a)"
   ]
  },
  {
   "cell_type": "code",
   "execution_count": null,
   "metadata": {},
   "outputs": [],
   "source": [
    "# cara 2\n",
    "desimal = float(input(\"Input desimal : \"))\n",
    "presisi = int(input(\"Jumlah presisi : \"))\n",
    "print(\"Bilangan desimal sesuai : {a:.{b}f}\".format(a = desimal, b = presisi))"
   ]
  },
  {
   "cell_type": "code",
   "execution_count": null,
   "metadata": {},
   "outputs": [],
   "source": [
    "# cara 3\n",
    "desimal = float(input(\"Input desimal : \"))\n",
    "presisi = int(input(\"Jumlah presisi : \"))\n",
    "print(\"Bilangan desimal sesuai : \",round(desimal, presisi) )"
   ]
  },
  {
   "cell_type": "code",
   "execution_count": null,
   "metadata": {},
   "outputs": [],
   "source": []
  }
 ],
 "metadata": {
  "kernelspec": {
   "display_name": "Python 3",
   "language": "python",
   "name": "python3"
  },
  "language_info": {
   "codemirror_mode": {
    "name": "ipython",
    "version": 3
   },
   "file_extension": ".py",
   "mimetype": "text/x-python",
   "name": "python",
   "nbconvert_exporter": "python",
   "pygments_lexer": "ipython3",
   "version": "3.7.6"
  }
 },
 "nbformat": 4,
 "nbformat_minor": 4
}
