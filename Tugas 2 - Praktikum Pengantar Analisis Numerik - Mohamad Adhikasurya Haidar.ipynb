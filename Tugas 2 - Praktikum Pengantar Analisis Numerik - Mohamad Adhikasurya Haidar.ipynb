{
 "cells": [
  {
   "cell_type": "markdown",
   "metadata": {},
   "source": [
    "Nama  : Mohamad Adhikasurya Haidar<BR>\n",
    "Nim     : 19/445704/PA/19528"
   ]
  },
  {
   "cell_type": "code",
   "execution_count": 8,
   "metadata": {},
   "outputs": [],
   "source": [
    "def konversi_suhu() :    \n",
    "    inputan = str(input(\"\\nMasukan ukuran suhu yang ingin anda konversi dengan menyertakan satuannya.\\nMisal 44K, -76C, 88.9F\\nUkuran suhu anda : \"))\n",
    "    inputan = \"\".join(inputan.split()) # Menghilangkan whitespace pada string\n",
    "    if \",\" in inputan :\n",
    "        inputan = inputan.replace(inputan[inputan.find(\",\")],\".\") # Jikalau ada yang input penulisan desimal menggunakan koma, diganti dengan titik\n",
    "    try : # Try Except saya apply untuk mengatasi error pada input suhu. Jika terdapat error, bagian \"except\" di bawah akan dieksekusi\n",
    "        suhu = float(inputan[:-1]) # Mengambil nilai suhu dan mengonversinya ke type data float\n",
    "        satuan = inputan[-1] # Mengambil satuan suhu pada inputan (R,C,K, atau F)\n",
    "\n",
    "        if satuan.lower() == \"c\" : #  \n",
    "        \n",
    "            fahrenheit = (9/5)*suhu + 32\n",
    "            reamur = (4/5)*suhu\n",
    "            kelvin = suhu + 273\n",
    "            print(\"Suhu dalam Fahrenheit\\t: {}\\nSuhu dalam reamur\\t: {}\\nSuhu dalam kelvin\\t: {}\".format(fahrenheit,reamur,kelvin))\n",
    "    \n",
    "        elif satuan.lower() == \"f\" :\n",
    "        \n",
    "            celcius = (5/9)*(suhu - 32)\n",
    "            reamur = (4/9)*(suhu - 32)\n",
    "            kelvin = (5/9)*(suhu - 32) + 273\n",
    "            print(\"Suhu dalam celcius\\t: {}\\nSuhu dalam reamur\\t: {}\\nSuhu dalam kelvin\\t: {}\".format(celcius,reamur,kelvin))\n",
    "        \n",
    "        elif satuan.lower() == \"r\" :\n",
    "        \n",
    "            celcius = (5/4)*suhu\n",
    "            fahrenheit = (9/4)*suhu + 32\n",
    "            kelvin = (5/4)*suhu + 273\n",
    "            print(\"Suhu dalam celcius\\t: {}\\nSuhu dalam Fahrenheit\\t: {}\\nSuhu dalam kelvin\\t: {}\".format(celcius,fahrenheit,kelvin))\n",
    "    \n",
    "        elif satuan.lower() == \"k\" :\n",
    "        \n",
    "            celcius = suhu - 273\n",
    "            reamur = (suhu - 273)*(4/5)\n",
    "            fahrenheit = (suhu - 273)*(9/5) + 32\n",
    "            print(\"Suhu dalam celcius\\t: {}\\nSuhu dalam Fahrenheit\\t: {}\\nSuhu dalam reamur\\t: {}\".format(celcius,fahrenheit,reamur))\n",
    "        \n",
    "        else :\n",
    "            print(\"Terdapat kesalahan input, silahkan input ulang XD\")\n",
    "            print(konversi_suhu()) \n",
    "    except :\n",
    "        print(\"Terdapat kesalahan input, silahkan input ulang XD\")\n",
    "        print(konversi_suhu())"
   ]
  },
  {
   "cell_type": "markdown",
   "metadata": {},
   "source": [
    "Interpretasi : <br>\n",
    "**1.** Dalam fungsi konversi suhu kita input suhu yang kita ingin konversi dengan ketentuan seperti di code<br>\n",
    "**2.** Kita bersihkan whitespace yang ada (jikalau ada kesalahan ketik)<br>\n",
    "**3.** Kita cek apakah user menginput \",\" atau tidak. Jika ya, akan direplace dengan \".\"<br>\n",
    "**4.** Selanjutnya dipakai *Try/Except* untuk menangani error (seperti kesalahan input satuan, atau adanya karakter lain dalam string yang tidak dibutuhkan)<br>\n",
    "**5.** Pada try, kita slice inputan untuk mengambil nilai suhu(dikonversijuga type datanya ke float) serta satuan suhunya.<br>\n",
    "**6.** Selanjutnya kita masuk ke *Control Flow*, di sini kita mencoba untuk mencocokan satuan suhu yang diinput oleh user. Di sini kita memanfaatkan fungsi *string.lower()* untuk membuat karakter satuannya dalam huruf kecil.<br>\n",
    "**7.** Jika ada yang cocok, maka proses konversi suhu berjalan dan akan keluar output suhu dalam tiga satuan suhu yang lainnya.<br>\n",
    "**8.** Jika tidak ada yang cocok (kesalahan input satuan), maka dipanggil kembali fungsinya untuk menginput ulang nilai suhu beserta satuannya.<br>\n",
    "**9.** Jika pada langkah 5 sampai 6 terdapat error, maka kode di dalam bagian *except* akan dieksekusi."
   ]
  }
 ],
 "metadata": {
  "kernelspec": {
   "display_name": "Python 3",
   "language": "python",
   "name": "python3"
  },
  "language_info": {
   "codemirror_mode": {
    "name": "ipython",
    "version": 3
   },
   "file_extension": ".py",
   "mimetype": "text/x-python",
   "name": "python",
   "nbconvert_exporter": "python",
   "pygments_lexer": "ipython3",
   "version": "3.7.6"
  }
 },
 "nbformat": 4,
 "nbformat_minor": 4
}
